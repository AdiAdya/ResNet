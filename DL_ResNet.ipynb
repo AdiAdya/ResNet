{
  "cells": [
    {
      "cell_type": "markdown",
      "metadata": {
        "id": "view-in-github",
        "colab_type": "text"
      },
      "source": [
        "<a href=\"https://colab.research.google.com/github/AdiAdya/ResNet/blob/main/DL_ResNet.ipynb\" target=\"_parent\"><img src=\"https://colab.research.google.com/assets/colab-badge.svg\" alt=\"Open In Colab\"/></a>"
      ]
    },
    {
      "cell_type": "markdown",
      "metadata": {
        "id": "kN0NsJvQl9m9"
      },
      "source": [
        "### Deep Learning - Mini Project 1"
      ]
    },
    {
      "cell_type": "code",
      "execution_count": null,
      "metadata": {
        "id": "d07zFtmQSLZV"
      },
      "outputs": [],
      "source": [
        "import numpy as np\n",
        "import torch\n",
        "from torch import nn\n",
        "from torchsummary import summary\n",
        "import torchvision\n",
        "import torchvision.transforms as transforms\n",
        "import torch.nn.functional as F"
      ]
    },
    {
      "cell_type": "markdown",
      "metadata": {
        "id": "dtuKl8e9mVKZ"
      },
      "source": [
        "#### Using GPU"
      ]
    },
    {
      "cell_type": "code",
      "execution_count": null,
      "metadata": {
        "colab": {
          "base_uri": "https://localhost:8080/"
        },
        "id": "V8UnxgvckaoN",
        "outputId": "082e79ee-e06f-49f3-d553-506ebe6849d8"
      },
      "outputs": [
        {
          "output_type": "stream",
          "name": "stdout",
          "text": [
            "cuda:0\n"
          ]
        }
      ],
      "source": [
        "device = torch.device(\"cuda:0\" if torch.cuda.is_available() else \"cpu\")\n",
        "print(device)"
      ]
    },
    {
      "cell_type": "markdown",
      "metadata": {
        "id": "yFaIsy1_mY2A"
      },
      "source": [
        "#### Model Class"
      ]
    },
    {
      "cell_type": "code",
      "execution_count": null,
      "metadata": {
        "id": "1YDPxLylIsLi"
      },
      "outputs": [],
      "source": [
        "class BasicBlock(nn.Module):\n",
        "\n",
        "    def __init__(self, in_planes, planes, stride=1):\n",
        "\n",
        "        super(BasicBlock, self).__init__()\n",
        "\n",
        "        self.conv1 = nn.Conv2d(in_planes, planes, kernel_size=3,\n",
        "                               stride=stride, padding=1, bias=False)\n",
        "        self.bn1 = nn.BatchNorm2d(planes)\n",
        "        self.conv2 = nn.Conv2d(planes, planes, kernel_size=3,\n",
        "                               stride=1, padding=1, bias=False)\n",
        "        self.bn2 = nn.BatchNorm2d(planes)\n",
        "\n",
        "        self.shortcut = nn.Sequential()\n",
        "        if stride != 1 or in_planes != planes:\n",
        "            self.shortcut = nn.Sequential(\n",
        "                nn.Conv2d(in_planes, planes, kernel_size=1,\n",
        "                          stride=stride, padding=0, bias=False),\n",
        "                nn.BatchNorm2d(planes)\n",
        "            )\n",
        "\n",
        "    def forward(self, x):\n",
        "        out = F.relu(self.bn1(self.conv1(x)))\n",
        "        out = self.bn2(self.conv2(out))\n",
        "        out += self.shortcut(x)\n",
        "        out = F.relu(out)\n",
        "        return out\n",
        "\n",
        "\n",
        "class ResNet(nn.Module):\n",
        "    def __init__(self, block, num_blocks, num_classes=10):\n",
        "        super(ResNet, self).__init__()\n",
        "        self.in_planes = 64\n",
        "\n",
        "        self.conv1 = nn.Conv2d(3, 64, kernel_size=3,\n",
        "                               stride=1, padding=1, bias=False)\n",
        "        self.bn1 = nn.BatchNorm2d(64)\n",
        "        self.layer1 = self._make_layer(block, 64, num_blocks[0], stride=1)\n",
        "        self.layer2 = self._make_layer(block, 128, num_blocks[1], stride=2)\n",
        "        self.layer3 = self._make_layer(block, 256, num_blocks[2], stride=2)\n",
        "        # self.layer4 = self._make_layer(block, 512, num_blocks[3], stride=2)\n",
        "        self.linear = nn.Linear(256, num_classes)\n",
        "\n",
        "    def _make_layer(self, block, planes, num_blocks, stride):\n",
        "        strides = [stride] + [1]*(num_blocks-1)\n",
        "        layers = []\n",
        "        for stride in strides:\n",
        "            layers.append(block(self.in_planes, planes, stride))\n",
        "            self.in_planes = planes\n",
        "        return nn.Sequential(*layers)\n",
        "\n",
        "    def forward(self, x):\n",
        "        out = F.relu(self.bn1(self.conv1(x)))\n",
        "        out = self.layer1(out)\n",
        "        out = self.layer2(out)\n",
        "        out = self.layer3(out)\n",
        "        # out = self.layer4(out)\n",
        "        out = F.avg_pool2d(out, 8)\n",
        "        out = out.view(out.size(0), -1)\n",
        "        out = self.linear(out)\n",
        "        return out\n",
        "\n",
        "def project1_model():\n",
        "    return ResNet(BasicBlock, [3, 5, 3])"
      ]
    },
    {
      "cell_type": "markdown",
      "metadata": {
        "id": "z5ewbmpcmfUK"
      },
      "source": [
        "#### Model Instantiation"
      ]
    },
    {
      "cell_type": "code",
      "execution_count": null,
      "metadata": {
        "id": "W9jG0N9dmeaE"
      },
      "outputs": [],
      "source": [
        "model = project1_model().cuda()"
      ]
    },
    {
      "cell_type": "markdown",
      "metadata": {
        "id": "-zJhzsu5m3Do"
      },
      "source": [
        "#### Model Summary"
      ]
    },
    {
      "cell_type": "code",
      "execution_count": null,
      "metadata": {
        "colab": {
          "base_uri": "https://localhost:8080/"
        },
        "id": "RtZdbsjEKttd",
        "outputId": "7a8c292a-00fe-43bf-d378-7184131e5c71"
      },
      "outputs": [
        {
          "output_type": "stream",
          "name": "stdout",
          "text": [
            "----------------------------------------------------------------\n",
            "        Layer (type)               Output Shape         Param #\n",
            "================================================================\n",
            "            Conv2d-1           [-1, 64, 32, 32]           1,728\n",
            "       BatchNorm2d-2           [-1, 64, 32, 32]             128\n",
            "            Conv2d-3           [-1, 64, 32, 32]          36,864\n",
            "       BatchNorm2d-4           [-1, 64, 32, 32]             128\n",
            "            Conv2d-5           [-1, 64, 32, 32]          36,864\n",
            "       BatchNorm2d-6           [-1, 64, 32, 32]             128\n",
            "        BasicBlock-7           [-1, 64, 32, 32]               0\n",
            "            Conv2d-8           [-1, 64, 32, 32]          36,864\n",
            "       BatchNorm2d-9           [-1, 64, 32, 32]             128\n",
            "           Conv2d-10           [-1, 64, 32, 32]          36,864\n",
            "      BatchNorm2d-11           [-1, 64, 32, 32]             128\n",
            "       BasicBlock-12           [-1, 64, 32, 32]               0\n",
            "           Conv2d-13           [-1, 64, 32, 32]          36,864\n",
            "      BatchNorm2d-14           [-1, 64, 32, 32]             128\n",
            "           Conv2d-15           [-1, 64, 32, 32]          36,864\n",
            "      BatchNorm2d-16           [-1, 64, 32, 32]             128\n",
            "       BasicBlock-17           [-1, 64, 32, 32]               0\n",
            "           Conv2d-18          [-1, 128, 16, 16]          73,728\n",
            "      BatchNorm2d-19          [-1, 128, 16, 16]             256\n",
            "           Conv2d-20          [-1, 128, 16, 16]         147,456\n",
            "      BatchNorm2d-21          [-1, 128, 16, 16]             256\n",
            "           Conv2d-22          [-1, 128, 16, 16]           8,192\n",
            "      BatchNorm2d-23          [-1, 128, 16, 16]             256\n",
            "       BasicBlock-24          [-1, 128, 16, 16]               0\n",
            "           Conv2d-25          [-1, 128, 16, 16]         147,456\n",
            "      BatchNorm2d-26          [-1, 128, 16, 16]             256\n",
            "           Conv2d-27          [-1, 128, 16, 16]         147,456\n",
            "      BatchNorm2d-28          [-1, 128, 16, 16]             256\n",
            "       BasicBlock-29          [-1, 128, 16, 16]               0\n",
            "           Conv2d-30          [-1, 128, 16, 16]         147,456\n",
            "      BatchNorm2d-31          [-1, 128, 16, 16]             256\n",
            "           Conv2d-32          [-1, 128, 16, 16]         147,456\n",
            "      BatchNorm2d-33          [-1, 128, 16, 16]             256\n",
            "       BasicBlock-34          [-1, 128, 16, 16]               0\n",
            "           Conv2d-35          [-1, 128, 16, 16]         147,456\n",
            "      BatchNorm2d-36          [-1, 128, 16, 16]             256\n",
            "           Conv2d-37          [-1, 128, 16, 16]         147,456\n",
            "      BatchNorm2d-38          [-1, 128, 16, 16]             256\n",
            "       BasicBlock-39          [-1, 128, 16, 16]               0\n",
            "           Conv2d-40          [-1, 128, 16, 16]         147,456\n",
            "      BatchNorm2d-41          [-1, 128, 16, 16]             256\n",
            "           Conv2d-42          [-1, 128, 16, 16]         147,456\n",
            "      BatchNorm2d-43          [-1, 128, 16, 16]             256\n",
            "       BasicBlock-44          [-1, 128, 16, 16]               0\n",
            "           Conv2d-45            [-1, 256, 8, 8]         294,912\n",
            "      BatchNorm2d-46            [-1, 256, 8, 8]             512\n",
            "           Conv2d-47            [-1, 256, 8, 8]         589,824\n",
            "      BatchNorm2d-48            [-1, 256, 8, 8]             512\n",
            "           Conv2d-49            [-1, 256, 8, 8]          32,768\n",
            "      BatchNorm2d-50            [-1, 256, 8, 8]             512\n",
            "       BasicBlock-51            [-1, 256, 8, 8]               0\n",
            "           Conv2d-52            [-1, 256, 8, 8]         589,824\n",
            "      BatchNorm2d-53            [-1, 256, 8, 8]             512\n",
            "           Conv2d-54            [-1, 256, 8, 8]         589,824\n",
            "      BatchNorm2d-55            [-1, 256, 8, 8]             512\n",
            "       BasicBlock-56            [-1, 256, 8, 8]               0\n",
            "           Conv2d-57            [-1, 256, 8, 8]         589,824\n",
            "      BatchNorm2d-58            [-1, 256, 8, 8]             512\n",
            "           Conv2d-59            [-1, 256, 8, 8]         589,824\n",
            "      BatchNorm2d-60            [-1, 256, 8, 8]             512\n",
            "       BasicBlock-61            [-1, 256, 8, 8]               0\n",
            "           Linear-62                   [-1, 10]           2,570\n",
            "================================================================\n",
            "Total params: 4,918,602\n",
            "Trainable params: 4,918,602\n",
            "Non-trainable params: 0\n",
            "----------------------------------------------------------------\n",
            "Input size (MB): 0.01\n",
            "Forward/backward pass size (MB): 17.38\n",
            "Params size (MB): 18.76\n",
            "Estimated Total Size (MB): 36.15\n",
            "----------------------------------------------------------------\n"
          ]
        }
      ],
      "source": [
        "summary(model, (3,32,32))"
      ]
    },
    {
      "cell_type": "markdown",
      "metadata": {
        "id": "pqQ8t2cWnAlc"
      },
      "source": [
        "Number of Trainable Parameters"
      ]
    },
    {
      "cell_type": "code",
      "execution_count": null,
      "metadata": {
        "colab": {
          "base_uri": "https://localhost:8080/"
        },
        "id": "ikZY3XXSUSng",
        "outputId": "93127211-974a-4824-aab9-1b0872ee6133"
      },
      "outputs": [
        {
          "output_type": "stream",
          "name": "stdout",
          "text": [
            "4918602\n"
          ]
        }
      ],
      "source": [
        "def count_parameters(model):\n",
        "    return sum(p.numel() for p in model.parameters() if p.requires_grad)\n",
        "    # torch.numel() returns number of elements in a tensor\n",
        "\n",
        "print(count_parameters(model))"
      ]
    },
    {
      "cell_type": "markdown",
      "metadata": {
        "id": "On7LCkKCnJjn"
      },
      "source": [
        "#### Data with Augmentation\n",
        "\n"
      ]
    },
    {
      "cell_type": "code",
      "execution_count": null,
      "metadata": {
        "colab": {
          "base_uri": "https://localhost:8080/"
        },
        "id": "c7T4uZhGLHxk",
        "outputId": "c38044ec-a6b6-4310-eda6-656ed98fc2e5"
      },
      "outputs": [
        {
          "output_type": "stream",
          "name": "stdout",
          "text": [
            "Files already downloaded and verified\n"
          ]
        }
      ],
      "source": [
        "standard_transform = transforms.Compose([\n",
        "                                         transforms.ToTensor(),\n",
        "                                         transforms.Normalize([0.4914, 0.4822, 0.4465], [0.247, 0.243, 0.261])\n",
        "                                         ])\n",
        "\n",
        "# Just Horizontal Flip\n",
        "augment_transform1 = transforms.Compose([\n",
        "                                         transforms.ToTensor(),\n",
        "                                         transforms.Normalize([0.4914, 0.4822, 0.4465], [0.247, 0.243, 0.261]),\n",
        "                                         transforms.RandomHorizontalFlip(p=1.0),\n",
        "                                         ])\n",
        "\n",
        "# Zoom-out\n",
        "augment_transform2 = transforms.Compose([\n",
        "                                         transforms.ToTensor(),\n",
        "                                         transforms.Normalize([0.4914, 0.4822, 0.4465], [0.247, 0.243, 0.261]),\n",
        "                                         transforms.RandomHorizontalFlip(),\n",
        "                                         transforms.RandomCrop(32, padding=4)\n",
        "                                         ])\n",
        "\n",
        "\n",
        "\n",
        "# Zoom-in\n",
        "augment_transform3 = transforms.Compose([\n",
        "                                         transforms.ToTensor(),\n",
        "                                         transforms.Normalize([0.4914, 0.4822, 0.4465], [0.247, 0.243, 0.261]),\n",
        "                                         transforms.RandomHorizontalFlip(),\n",
        "                                         transforms.Resize(size=(36, 36)),\n",
        "                                         transforms.RandomCrop(32)\n",
        "                                         ])\n",
        "\n",
        "# Rotation\n",
        "augment_transform4 = transforms.Compose([\n",
        "                                         transforms.ToTensor(),\n",
        "                                         transforms.Normalize([0.4914, 0.4822, 0.4465], [0.247, 0.243, 0.261]),\n",
        "                                         transforms.RandomHorizontalFlip(),\n",
        "                                         transforms.RandomRotation(degrees=(-90, -90)),\n",
        "                                         ])\n",
        "\n",
        "# Color Jitter\n",
        "augment_transform5 = transforms.Compose([\n",
        "                                         transforms.ToTensor(),\n",
        "                                         transforms.Normalize([0.4914, 0.4822, 0.4465], [0.247, 0.243, 0.261]),\n",
        "                                         transforms.ColorJitter(brightness=0.5, contrast=0.5, saturation=0.5, hue=0.5),\n",
        "                                         transforms.RandomHorizontalFlip(),\n",
        "                                         ])\n",
        "\n",
        "\n",
        "\n",
        "\n",
        "standardtrainingdata = torchvision.datasets.CIFAR10('./CIFAR10/',train=True,download=True,transform=standard_transform)\n",
        "augmentedtrainingdata1 = torchvision.datasets.CIFAR10('./CIFAR10/',train=True,download=False,transform=augment_transform1)\n",
        "augmentedtrainingdata2 = torchvision.datasets.CIFAR10('./CIFAR10/',train=True,download=False,transform=augment_transform2)\n",
        "augmentedtrainingdata3 = torchvision.datasets.CIFAR10('./CIFAR10/',train=True,download=False,transform=augment_transform3)\n",
        "augmentedtrainingdata4 = torchvision.datasets.CIFAR10('./CIFAR10/',train=True,download=False,transform=augment_transform4)\n",
        "augmentedtrainingdata5 = torchvision.datasets.CIFAR10('./CIFAR10/',train=True,download=False,transform=augment_transform5)\n",
        "# augmentedtrainingdata6 = torchvision.datasets.CIFAR10('./CIFAR10/',train=True,download=False,transform=augment_transform6)\n",
        "\n",
        "trainingdata = torch.utils.data.ConcatDataset([standardtrainingdata,\n",
        "                                               augmentedtrainingdata1,\n",
        "                                               augmentedtrainingdata2,\n",
        "                                               augmentedtrainingdata3,\n",
        "                                               augmentedtrainingdata4,\n",
        "                                               augmentedtrainingdata5,\n",
        "                                              #  augmentedtrainingdata6,\n",
        "                                               ])\n",
        "testdata = torchvision.datasets.CIFAR10('./CIFAR10/',train=False,download=False,transform=standard_transform)\n",
        "\n",
        "trainDataLoader = torch.utils.data.DataLoader(trainingdata,batch_size=32,shuffle=True, num_workers=2, pin_memory=True)\n",
        "testDataLoader = torch.utils.data.DataLoader(testdata,batch_size=64,shuffle=False, num_workers=2, pin_memory=True)"
      ]
    },
    {
      "cell_type": "markdown",
      "metadata": {
        "id": "aMegjxgHoQMc"
      },
      "source": [
        "#### Loss Metric and Optimizer (Cross Entropy and ADAM)"
      ]
    },
    {
      "cell_type": "code",
      "execution_count": null,
      "metadata": {
        "id": "WtdONLran2Vo"
      },
      "outputs": [],
      "source": [
        "import torch.optim as optim\n",
        "\n",
        "# Loss\n",
        "criterion = nn.CrossEntropyLoss()\n",
        "\n",
        "# Optimizer\n",
        "lr = 0.1\n",
        "momentum = 0.9\n",
        "milestones = [15,25,35,45]\n",
        "gamma = 0.1\n",
        "weight_decay = 0.0001\n",
        "\n",
        "optimizer = optim.SGD(\n",
        "                      model.parameters(),\n",
        "                      lr=lr,\n",
        "                      momentum=momentum,\n",
        "                      weight_decay=weight_decay,\n",
        "                      )\n",
        "scheduler = optim.lr_scheduler.MultiStepLR(optimizer=optimizer, milestones=milestones, gamma=gamma)"
      ]
    },
    {
      "cell_type": "code",
      "execution_count": null,
      "metadata": {
        "colab": {
          "base_uri": "https://localhost:8080/"
        },
        "id": "LqcODIBOS82-",
        "outputId": "7a2a5e50-b2e1-4f3a-c809-7332254e78ee"
      },
      "outputs": [
        {
          "output_type": "stream",
          "name": "stdout",
          "text": [
            "Epoch 0, Train Loss: 1.28016, Test loss 0.63076, Test acc 0.7878\n",
            "Epoch 1, Train Loss: 0.669, Test loss 0.49271, Test acc 0.83\n",
            "Epoch 2, Train Loss: 0.5642, Test loss 0.5194, Test acc 0.8326\n",
            "Epoch 3, Train Loss: 0.52009, Test loss 0.47614, Test acc 0.8458\n",
            "Epoch 4, Train Loss: 0.49552, Test loss 0.43267, Test acc 0.8504\n",
            "Epoch 5, Train Loss: 0.47611, Test loss 0.45513, Test acc 0.845\n",
            "Epoch 6, Train Loss: 0.46762, Test loss 0.37198, Test acc 0.8732\n",
            "Epoch 7, Train Loss: 0.4574, Test loss 0.44865, Test acc 0.8517\n",
            "Epoch 8, Train Loss: 0.45098, Test loss 0.40623, Test acc 0.8605\n",
            "Epoch 9, Train Loss: 0.44732, Test loss 0.35889, Test acc 0.8795\n",
            "Epoch 10, Train Loss: 0.44257, Test loss 0.39201, Test acc 0.8669\n",
            "Epoch 11, Train Loss: 0.43903, Test loss 0.41853, Test acc 0.861\n",
            "Epoch 12, Train Loss: 0.43613, Test loss 0.40444, Test acc 0.8672\n",
            "Epoch 13, Train Loss: 0.43421, Test loss 0.33877, Test acc 0.8852\n",
            "Epoch 14, Train Loss: 0.43016, Test loss 0.40028, Test acc 0.8722\n",
            "Epoch 15, Train Loss: 0.20237, Test loss 0.16884, Test acc 0.9415\n",
            "Model Saved... Accuracy = 0.9414999485015869\n",
            "Epoch 16, Train Loss: 0.14825, Test loss 0.17277, Test acc 0.943\n",
            "Model Saved... Accuracy = 0.9429999589920044\n",
            "Epoch 17, Train Loss: 0.12736, Test loss 0.18945, Test acc 0.9388\n",
            "Epoch 18, Train Loss: 0.11726, Test loss 0.18951, Test acc 0.9408\n",
            "Epoch 19, Train Loss: 0.11477, Test loss 0.18431, Test acc 0.9415\n",
            "Epoch 20, Train Loss: 0.1139, Test loss 0.19792, Test acc 0.9355\n",
            "Epoch 21, Train Loss: 0.11469, Test loss 0.19791, Test acc 0.9393\n",
            "Epoch 22, Train Loss: 0.11836, Test loss 0.23403, Test acc 0.9322\n",
            "Epoch 23, Train Loss: 0.11915, Test loss 0.22195, Test acc 0.9336\n",
            "Epoch 24, Train Loss: 0.12073, Test loss 0.20928, Test acc 0.9367\n",
            "Epoch 25, Train Loss: 0.06092, Test loss 0.16762, Test acc 0.9496\n",
            "Model Saved... Accuracy = 0.9495999813079834\n",
            "Epoch 26, Train Loss: 0.04409, Test loss 0.16764, Test acc 0.9521\n",
            "Model Saved... Accuracy = 0.9520999789237976\n",
            "Epoch 27, Train Loss: 0.03796, Test loss 0.16973, Test acc 0.9502\n",
            "Epoch 28, Train Loss: 0.03402, Test loss 0.16769, Test acc 0.9514\n",
            "Epoch 29, Train Loss: 0.02975, Test loss 0.17479, Test acc 0.9519\n",
            "Epoch 30, Train Loss: 0.02734, Test loss 0.17932, Test acc 0.9525\n",
            "Model Saved... Accuracy = 0.9524999856948853\n",
            "Epoch 31, Train Loss: 0.02541, Test loss 0.18318, Test acc 0.952\n",
            "Epoch 32, Train Loss: 0.0233, Test loss 0.18242, Test acc 0.9502\n",
            "Epoch 33, Train Loss: 0.02116, Test loss 0.18131, Test acc 0.9511\n",
            "Epoch 34, Train Loss: 0.01986, Test loss 0.18557, Test acc 0.9515\n",
            "Epoch 35, Train Loss: 0.01819, Test loss 0.18209, Test acc 0.9515\n",
            "Epoch 36, Train Loss: 0.01759, Test loss 0.18285, Test acc 0.9522\n",
            "Epoch 37, Train Loss: 0.01688, Test loss 0.187, Test acc 0.9511\n",
            "Epoch 38, Train Loss: 0.01674, Test loss 0.18232, Test acc 0.9521\n",
            "Epoch 39, Train Loss: 0.01628, Test loss 0.18783, Test acc 0.9512\n",
            "Epoch 40, Train Loss: 0.01578, Test loss 0.18364, Test acc 0.952\n",
            "Epoch 41, Train Loss: 0.01614, Test loss 0.17968, Test acc 0.9523\n",
            "Epoch 42, Train Loss: 0.01591, Test loss 0.18281, Test acc 0.9526\n",
            "Model Saved... Accuracy = 0.9526000022888184\n",
            "Epoch 43, Train Loss: 0.01548, Test loss 0.18304, Test acc 0.9515\n",
            "Epoch 44, Train Loss: 0.01555, Test loss 0.18495, Test acc 0.9507\n",
            "Epoch 45, Train Loss: 0.01517, Test loss 0.18143, Test acc 0.9512\n",
            "Epoch 46, Train Loss: 0.01488, Test loss 0.18802, Test acc 0.9514\n",
            "Epoch 47, Train Loss: 0.01475, Test loss 0.18225, Test acc 0.9512\n",
            "Epoch 48, Train Loss: 0.01494, Test loss 0.18548, Test acc 0.9515\n",
            "Epoch 49, Train Loss: 0.01537, Test loss 0.18724, Test acc 0.9511\n"
          ]
        }
      ],
      "source": [
        "train_loss_history = []\n",
        "test_loss_history = []\n",
        "train_acc_history = []\n",
        "test_acc_history = []\n",
        "\n",
        "EPOCHS = 50\n",
        "\n",
        "best_accuracy = 0.0\n",
        "\n",
        "for epoch in range(EPOCHS):\n",
        "    train_loss = 0.0\n",
        "    test_loss = 0.0\n",
        "    train_acc = 0.0\n",
        "    test_acc = 0.0\n",
        "\n",
        "    model.train()\n",
        "    for i, data in enumerate(trainDataLoader):\n",
        "        images, labels = data\n",
        "        images = images.cuda()\n",
        "        labels = labels.cuda()\n",
        "        optimizer.zero_grad()\n",
        "        output = model(images)\n",
        "        _, predictions = torch.max(output, 1)\n",
        "        fit = criterion(output,labels)\n",
        "        fit.backward()\n",
        "        optimizer.step()\n",
        "        train_loss += fit.item()\n",
        "        train_acc += torch.sum(predictions == labels.data)\n",
        "    scheduler.step()\n",
        "\n",
        "    model.eval()\n",
        "    for i, data in enumerate(testDataLoader):\n",
        "        with torch.no_grad():\n",
        "            images, labels = data\n",
        "            images = images.cuda()\n",
        "            labels = labels.cuda()\n",
        "            output = model(images)\n",
        "            _, predictions = torch.max(output, 1)\n",
        "            fit = criterion(output,labels)\n",
        "            test_loss += fit.item()\n",
        "            test_acc += torch.sum(predictions == labels.data)\n",
        "\n",
        "    train_loss = train_loss/len(trainDataLoader)\n",
        "    test_loss = test_loss/len(testDataLoader)\n",
        "    train_loss_history.append(train_loss)\n",
        "    test_loss_history.append(test_loss)\n",
        "    train_acc = (train_acc.float() / len(trainDataLoader.dataset)).item()\n",
        "    test_acc = (test_acc.float() / len(testDataLoader.dataset)).item()\n",
        "\n",
        "    train_acc_history += [train_acc]\n",
        "    test_acc_history += [test_acc]\n",
        "    print('Epoch %s, Train Loss: %s, Test loss %s, Test acc %s'%(epoch, np.round(train_loss, 5), np.round(test_loss, 5), np.round(test_acc, 5)))\n",
        "\n",
        "    if (test_acc >= 0.94) and (test_acc > best_accuracy):\n",
        "        best_accuracy = test_acc\n",
        "        torch.save(model.state_dict(), 'res.pt')\n",
        "        print(\"Model Saved... Accuracy = \" + str(test_acc))"
      ]
    },
    {
      "cell_type": "code",
      "execution_count": null,
      "metadata": {
        "colab": {
          "base_uri": "https://localhost:8080/",
          "height": 313
        },
        "id": "40V3igPVU5B1",
        "outputId": "036e4d35-247b-4884-9f34-5fea5da1e542"
      },
      "outputs": [
        {
          "output_type": "execute_result",
          "data": {
            "text/plain": [
              "Text(0, 0.5, 'Loss')"
            ]
          },
          "metadata": {},
          "execution_count": 11
        },
        {
          "output_type": "display_data",
          "data": {
            "text/plain": [
              "<Figure size 432x288 with 1 Axes>"
            ],
            "image/png": "[encoded data removed]"
          },
          "metadata": {
            "needs_background": "light"
          }
        }
      ],
      "source": [
        "import matplotlib.pyplot as plt\n",
        "\n",
        "plt.plot(train_loss_history)\n",
        "plt.plot(test_loss_history)\n",
        "plt.legend([\"train\", \"val\"])\n",
        "plt.title(\"Loss\")\n",
        "plt.xlabel(\"Epoch\")\n",
        "plt.ylabel(\"Loss\")\n",
        "plt.savefig('loss.png')"
      ]
    },
    {
      "cell_type": "code",
      "execution_count": null,
      "metadata": {
        "colab": {
          "base_uri": "https://localhost:8080/",
          "height": 313
        },
        "id": "Z_2Kb__XqBRU",
        "outputId": "be5c8c5e-faaa-4941-bb5d-196655cae0d1"
      },
      "outputs": [
        {
          "output_type": "execute_result",
          "data": {
            "text/plain": [
              "Text(0, 0.5, 'Accuracy')"
            ]
          },
          "metadata": {},
          "execution_count": 12
        },
        {
          "output_type": "display_data",
          "data": {
            "text/plain": [
              "<Figure size 432x288 with 1 Axes>"
            ],
            "image/png": "[encoded data removed]"
          },
          "metadata": {
            "needs_background": "light"
          }
        }
      ],
      "source": [
        "plt.plot(train_acc_history)\n",
        "plt.plot(test_acc_history)\n",
        "plt.legend([\"train\", \"val\"])\n",
        "plt.title(\"Accuracy\")\n",
        "plt.xlabel(\"Epoch\")\n",
        "plt.ylabel(\"Accuracy\")\n",
        "plt.savefig('acc.png')"
      ]
    }
  ],
  "metadata": {
    "accelerator": "GPU",
    "colab": {
      "provenance": [],
      "include_colab_link": true
    },
    "kernelspec": {
      "display_name": "Python 3 (ipykernel)",
      "language": "python",
      "name": "python3"
    },
    "language_info": {
      "codemirror_mode": {
        "name": "ipython",
        "version": 3
      },
      "file_extension": ".py",
      "mimetype": "text/x-python",
      "name": "python",
      "nbconvert_exporter": "python",
      "pygments_lexer": "ipython3",
      "version": "3.9.7"
    }
  },
  "nbformat": 4,
  "nbformat_minor": 0
}